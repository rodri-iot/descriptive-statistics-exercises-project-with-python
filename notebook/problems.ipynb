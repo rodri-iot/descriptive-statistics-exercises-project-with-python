{
    "cells": [
        {
            "cell_type": "markdown",
            "id": "ac622319",
            "metadata": {},
            "source": [
                "# Descriptive statistics problems"
            ]
        },
        {
            "cell_type": "markdown",
            "id": "5e0ab0d5",
            "metadata": {},
            "source": [
                "### Exercise 1\n",
                "\n",
                "We will use NumPy to obtain information to describe statistically.\n",
                "\n",
                "- Generate an array of 100 elements following a normal distribution.\n",
                "- Generate an array of 100 elements following a chi-square distribution with 3 degrees of freedom.\n",
                "- Calculate the main metrics and statistical measures that best describe the two vectors."
            ]
        },
        {
            "cell_type": "code",
            "execution_count": 44,
            "id": "34720ab6",
            "metadata": {},
            "outputs": [
                {
                    "name": "stdout",
                    "output_type": "stream",
                    "text": [
                        "Normal Distribution\n",
                        "[ 0.49671415 -0.1382643   0.64768854  1.52302986 -0.23415337 -0.23413696\n",
                        "  1.57921282  0.76743473 -0.46947439  0.54256004 -0.46341769 -0.46572975\n",
                        "  0.24196227 -1.91328024 -1.72491783 -0.56228753 -1.01283112  0.31424733\n",
                        " -0.90802408 -1.4123037   1.46564877 -0.2257763   0.0675282  -1.42474819\n",
                        " -0.54438272  0.11092259 -1.15099358  0.37569802 -0.60063869 -0.29169375\n",
                        " -0.60170661  1.85227818 -0.01349722 -1.05771093  0.82254491 -1.22084365\n",
                        "  0.2088636  -1.95967012 -1.32818605  0.19686124  0.73846658  0.17136828\n",
                        " -0.11564828 -0.3011037  -1.47852199 -0.71984421 -0.46063877  1.05712223\n",
                        "  0.34361829 -1.76304016  0.32408397 -0.38508228 -0.676922    0.61167629\n",
                        "  1.03099952  0.93128012 -0.83921752 -0.30921238  0.33126343  0.97554513\n",
                        " -0.47917424 -0.18565898 -1.10633497 -1.19620662  0.81252582  1.35624003\n",
                        " -0.07201012  1.0035329   0.36163603 -0.64511975  0.36139561  1.53803657\n",
                        " -0.03582604  1.56464366 -2.6197451   0.8219025   0.08704707 -0.29900735\n",
                        "  0.09176078 -1.98756891 -0.21967189  0.35711257  1.47789404 -0.51827022\n",
                        " -0.8084936  -0.50175704  0.91540212  0.32875111 -0.5297602   0.51326743\n",
                        "  0.09707755  0.96864499 -0.70205309 -0.32766215 -0.39210815 -1.46351495\n",
                        "  0.29612028  0.26105527  0.00511346 -0.23458713]\n",
                        "Mean: -0.10384651739409384 - Standar Deviation: 0.9036161766446296 - Variance: 0.8165221946938584\n",
                        "Chi Square Distribution\n",
                        "[ 0.4168513   1.53749288  2.0019707   3.31954478  2.93509884  2.17617828\n",
                        "  0.15830407  2.27652419  2.46587889 12.72456265  1.94196651  3.04725102\n",
                        "  5.77516859  4.36378602  6.86491387  0.42618426  0.78098785  1.3113313\n",
                        "  0.33084683  2.48460231  0.85740894  7.53845363  1.01734997  1.7044591\n",
                        "  4.56886089  0.55649438  0.29858042  2.75534614  2.9409741   4.4625349\n",
                        "  3.65222252  3.03548985  1.15103525  2.87187902  3.02542952  1.10535719\n",
                        "  9.13003056  3.51390358  0.79761542  4.48007115  5.09450961  3.3434575\n",
                        "  1.84236463  1.05445618  2.17070629  3.15061854  2.36153348  7.09243827\n",
                        "  3.96269904  0.92828493  0.70025868  3.53848141  1.8831237   4.24057767\n",
                        "  3.51221427  2.17951444  0.94044813  0.35233451  2.82705909  0.54422803\n",
                        "  0.89743356  2.68142092  2.4613509   0.63275656  5.54211583  5.43039306\n",
                        "  3.63214678  3.62852305  3.63218282  5.06050325  4.04232775  1.03035801\n",
                        "  1.85822454 11.7557897   0.17754328  1.45511551  5.56483363  1.10410752\n",
                        "  4.1308596   2.43317078  1.18979801  2.75974204  1.00588199  2.09414701\n",
                        "  3.60307013  4.7477682   1.450369    1.18741582  0.531925    4.9308192\n",
                        " 10.57550712  5.34984734  6.2796709   1.11415225  3.42940531  4.43865013\n",
                        "  0.74626305  0.13247338  0.50086102  2.0667793 ]\n",
                        "Mean: 2.9380795335328225 - Standar Deviation: 2.4118463757907924 - Variance: 5.817002940415181\n"
                    ]
                }
            ],
            "source": [
                "# TODO\n",
                "import numpy as np\n",
                "\n",
                "np.random.seed(42)\n",
                "\n",
                "#Create distributions\n",
                "dis_norm = np.random.normal(size = 100)\n",
                "dis_chi = np.random.chisquare(3, 100)\n",
                "\n",
                "#Calculatng mean, std, var for Normal Distribution\n",
                "mean_norm = np.mean(dis_norm)\n",
                "std_norm = np.std(dis_norm)\n",
                "var_norm = np.var(dis_norm)\n",
                "\n",
                "#Calculating mean, std, var for Chi Square Distribution\n",
                "mean_chi = np.mean(dis_chi)\n",
                "std_chi = np.std(dis_chi)\n",
                "var_chi = np.var(dis_chi)\n",
                "\n",
                "print(\"Normal Distribution\")\n",
                "print(dis_norm)\n",
                "print(f\"Mean: {mean_norm} - Standar Deviation: {std_norm} - Variance: {var_norm}\")\n",
                "\n",
                "print(\"Chi Square Distribution\")\n",
                "print(dis_chi)\n",
                "print(f\"Mean: {mean_chi} - Standar Deviation: {std_chi} - Variance: {var_chi}\")"
            ]
        },
        {
            "cell_type": "code",
            "execution_count": 45,
            "id": "345f8a4a",
            "metadata": {},
            "outputs": [
                {
                    "name": "stdout",
                    "output_type": "stream",
                    "text": [
                        "Statistics Normal Distribution\n",
                        "Media: -0.10384651739409385 - Median: -0.1269562917797126 - Mode: 0.4967141530112327 - Standard Deviation: 0.9081684280078007 - Variance: 0.82476989363016\n",
                        "Statistics Chi Square Distribution\n",
                        "Media: 2.9380795335328225 - Median: 2.4636148965577283 - Mode: 0.4168513022813494 - Standard Deviation: 2.4239968122656266 - Variance: 5.87576054587392\n"
                    ]
                }
            ],
            "source": [
                "# Second type for calculating stats\n",
                "import statistics as stats\n",
                "\n",
                "norm_mean, norm_median, norm_std, norm_mode, norm_var = stats.mean(dis_norm), stats.median(dis_norm), stats.stdev(dis_norm), stats.mode(dis_norm), stats.variance(dis_norm)\n",
                "chi_mean, chi_median, chi_std, chi_mode, chi_var = stats.mean(dis_chi), stats.median(dis_chi), stats.stdev(dis_chi), stats.mode(dis_chi), stats.variance(dis_chi)\n",
                "\n",
                "print(\"Statistics Normal Distribution\")\n",
                "print(f\"Media: {norm_mean} - Median: {norm_median} - Mode: {norm_mode} - Standard Deviation: {norm_std} - Variance: {norm_var}\")\n",
                "print(\"Statistics Chi Square Distribution\")\n",
                "print(f\"Media: {chi_mean} - Median: {chi_median} - Mode: {chi_mode} - Standard Deviation: {chi_std} - Variance: {chi_var}\")"
            ]
        },
        {
            "cell_type": "code",
            "execution_count": 46,
            "id": "29c22970",
            "metadata": {},
            "outputs": [
                {
                    "name": "stdout",
                    "output_type": "stream",
                    "text": [
                        "Normal range is: 4.472023288598682\n",
                        "Chi Square range is: 12.592089274962756\n"
                    ]
                }
            ],
            "source": [
                "# Calculating Range\n",
                "norm_range = max(dis_norm) - min(dis_norm)\n",
                "chi_range = max(dis_chi) - min(dis_chi)\n",
                "\n",
                "print(f\"Normal range is: {norm_range}\")\n",
                "print(f\"Chi Square range is: {chi_range}\")"
            ]
        },
        {
            "cell_type": "code",
            "execution_count": 47,
            "id": "25f2476f",
            "metadata": {},
            "outputs": [
                {
                    "name": "stdout",
                    "output_type": "stream",
                    "text": [
                        "Normal Skew: -0.17526772024433726\n",
                        "Chi Square Skew: 1.6683703423622345\n"
                    ]
                }
            ],
            "source": [
                "# Calculating Skewness\n",
                "from scipy.stats import skew\n",
                "\n",
                "norm_skew = skew(dis_norm)\n",
                "chi_skew = skew(dis_chi)\n",
                "\n",
                "print(f\"Normal Skew: {norm_skew}\")\n",
                "print(f\"Chi Square Skew: {chi_skew}\")"
            ]
        },
        {
            "cell_type": "markdown",
            "id": "b82a8e12",
            "metadata": {},
            "source": [
                "The calculation of Skewness tells us that:\n",
                "- The normal distribution is defined as similar\n",
                "- The chi-square distribution has a tail on the right"
            ]
        },
        {
            "cell_type": "code",
            "execution_count": 48,
            "id": "c3413012",
            "metadata": {},
            "outputs": [
                {
                    "name": "stdout",
                    "output_type": "stream",
                    "text": [
                        "Normal Kurtois: -0.1554047077420817\n",
                        "Chi Square Kurtois: 3.620577909892315\n"
                    ]
                }
            ],
            "source": [
                "# Calculation Kurtois\n",
                "from scipy.stats import kurtosis\n",
                "\n",
                "norm_kurt = kurtosis(dis_norm)\n",
                "chi_kurt = kurtosis(dis_chi)\n",
                "\n",
                "print(f\"Normal Kurtois: {norm_kurt}\")\n",
                "print(f\"Chi Square Kurtois: {chi_kurt}\")"
            ]
        },
        {
            "cell_type": "markdown",
            "id": "8e272859",
            "metadata": {},
            "source": [
                "Kurtois analysis tells us that:\n",
                "- By having a result very close to 0, the vector resembles the behavior of an almost perfect normal distribution\n",
                "- The result greater than 3 positive, represents a chi-square distribution with a tail to the right"
            ]
        },
        {
            "cell_type": "markdown",
            "id": "46c70c3d",
            "metadata": {},
            "source": [
                "### Exercise 2\n",
                "\n",
                "Write a Python program to calculate the standard deviation of the following data:\n",
                "\n",
                "```py\n",
                "data = [4, 2, 5, 8, 6]\n",
                "```"
            ]
        },
        {
            "cell_type": "code",
            "execution_count": 55,
            "id": "d590308e",
            "metadata": {},
            "outputs": [
                {
                    "name": "stdout",
                    "output_type": "stream",
                    "text": [
                        "Data: [4, 2, 5, 8, 6]\n",
                        "Standard Devation: 2.23606797749979\n"
                    ]
                }
            ],
            "source": [
                "# TODO\n",
                "import math\n",
                "import sys\n",
                "\n",
                "# Calculating the mean\n",
                "def mean_calc(data):\n",
                "    n, mean = len(data), 0\n",
                "\n",
                "    if (n <= 1):\n",
                "        return data[0]\n",
                "    for x in data:\n",
                "        mean = mean + float(x)\n",
                "\n",
                "    mean = mean / float(n)\n",
                "    return mean\n",
                "\n",
                "# Calculating the standar deviation\n",
                "def std_dev(data):\n",
                "    n = len(data)\n",
                "\n",
                "    if (n <= 1):\n",
                "        return 0.0\n",
                "    \n",
                "    mean, std = mean_calc(data), 0.0\n",
                "\n",
                "    for i in data:\n",
                "        std += (float(i) - mean) ** 2    \n",
                "    # Since there are 5 data, the formula to be used is for the case of samples, with the difference that it is not divided by N but by n-1\n",
                "    std = math.sqrt(std / float(n-1))\n",
                "    return std\n",
                "\n",
                "data = [4, 2, 5, 8, 6]\n",
                "print(f\"Data: {data}\")\n",
                "print(f\"Standard Devation: {std_dev(data)}\")\n"
            ]
        }
    ],
    "metadata": {
        "interpreter": {
            "hash": "9248718ffe6ce6938b217e69dbcc175ea21f4c6b28a317e96c05334edae734bb"
        },
        "kernelspec": {
            "display_name": "Python 3.9.12 ('ML-BOOTCAMP')",
            "language": "python",
            "name": "python3"
        },
        "language_info": {
            "codemirror_mode": {
                "name": "ipython",
                "version": 3
            },
            "file_extension": ".py",
            "mimetype": "text/x-python",
            "name": "python",
            "nbconvert_exporter": "python",
            "pygments_lexer": "ipython3",
            "version": "3.11.4"
        }
    },
    "nbformat": 4,
    "nbformat_minor": 5
}
