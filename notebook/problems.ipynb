{
    "cells": [
        {
            "cell_type": "markdown",
            "id": "ac622319",
            "metadata": {},
            "source": [
                "# Descriptive statistics problems"
            ]
        },
        {
            "cell_type": "markdown",
            "id": "5e0ab0d5",
            "metadata": {},
            "source": [
                "### Exercise 1\n",
                "\n",
                "We will use NumPy to obtain information to describe statistically.\n",
                "\n",
                "- Generate an array of 100 elements following a normal distribution.\n",
                "- Generate an array of 100 elements following a chi-square distribution with 3 degrees of freedom.\n",
                "- Calculate the main metrics and statistical measures that best describe the two vectors."
            ]
        },
        {
            "cell_type": "code",
            "execution_count": 5,
            "id": "34720ab6",
            "metadata": {},
            "outputs": [
                {
                    "name": "stdout",
                    "output_type": "stream",
                    "text": [
                        "Normal Distribution\n",
                        "[-1.56035211 -0.0309776  -0.62092842 -1.46458049  1.41194612 -0.47673214\n",
                        " -0.78046921  1.07026774 -1.2822926  -1.3274789   0.12633764  0.86219372\n",
                        "  0.69673696 -0.33456518 -0.99752606  1.59890829  3.31407535  0.98777046\n",
                        "  0.12386626  0.74278539 -0.39395585  0.14811582 -0.41223445 -0.16071506\n",
                        "  0.13953147  0.28546937 -0.28126199  1.71090732 -0.14976664  0.69030672\n",
                        "  1.09520951  1.3384087  -1.36898167  0.48642763  0.75352168  0.36346459\n",
                        " -0.31471048  1.37328117 -0.62441716  0.375754   -0.20041632  0.74303806\n",
                        "  0.85736196 -1.50618929 -1.66635217 -0.2189948  -0.35885843  0.37852769\n",
                        "  0.68421537 -1.16785607 -0.79321662 -0.0388354   2.70525499 -1.49138851\n",
                        "  0.09597793  0.52468671  0.8156655   0.0515058  -0.16455536  0.27819942\n",
                        "  0.0871147   0.03426837  0.74656892 -0.94363758 -0.24577667  1.10812096\n",
                        "  0.03900789 -0.21326669 -0.89095461 -0.27064634  0.22224372  0.2518136\n",
                        "  0.70792609  0.49398983  1.47100167 -0.58261947  2.06581949  1.08783389\n",
                        "  0.80518904 -1.58788484  1.2308855  -2.37345338 -0.03111097 -3.80989038\n",
                        " -0.19904969  0.35043074 -0.05255078 -0.63428108 -0.36293111 -2.57091976\n",
                        "  0.13751474 -0.71929619  0.72852289  1.62174549  1.52166225 -1.30677343\n",
                        " -0.8897683   0.00526774  0.86642487 -0.53553558]\n",
                        "Mean: 0.04004115872112115 - Standar Desviation: 1.0762778842618 - Variance: 1.1583740841510564\n"
                    ]
                }
            ],
            "source": [
                "# TODO\n",
                "import numpy as np\n",
                "#import scipy.stats import norm,chi2\n",
                "\n",
                "np.random.seed(50)\n",
                "\n",
                "dis_norm = np.random.normal(size=100)\n",
                "dis_chi = np.random.chisquare((3, 100))\n",
                "\n",
                "mean_norm = np.mean(dis_norm)\n",
                "std_norm = np.std(dis_norm)\n",
                "var_nom = np.var(dis_norm)\n",
                "#mean_chi, std_chi, var_chi = dis_chi.stats(moments='mv')\n",
                "\n",
                "print(\"Normal Distribution\")\n",
                "print(dis_norm)\n",
                "print(f\"Mean: {mean_norm} - Standar Desviation: {std_norm} - Variance: {var_nom}\")"
            ]
        },
        {
            "cell_type": "markdown",
            "id": "46c70c3d",
            "metadata": {},
            "source": [
                "### Exercise 2\n",
                "\n",
                "Write a Python program to calculate the standard deviation of the following data:\n",
                "\n",
                "```py\n",
                "data = [4, 2, 5, 8, 6]\n",
                "```"
            ]
        },
        {
            "cell_type": "code",
            "execution_count": 2,
            "id": "d590308e",
            "metadata": {},
            "outputs": [],
            "source": [
                "# TODO"
            ]
        }
    ],
    "metadata": {
        "interpreter": {
            "hash": "9248718ffe6ce6938b217e69dbcc175ea21f4c6b28a317e96c05334edae734bb"
        },
        "kernelspec": {
            "display_name": "Python 3.9.12 ('ML-BOOTCAMP')",
            "language": "python",
            "name": "python3"
        },
        "language_info": {
            "codemirror_mode": {
                "name": "ipython",
                "version": 3
            },
            "file_extension": ".py",
            "mimetype": "text/x-python",
            "name": "python",
            "nbconvert_exporter": "python",
            "pygments_lexer": "ipython3",
            "version": "3.11.4"
        }
    },
    "nbformat": 4,
    "nbformat_minor": 5
}
